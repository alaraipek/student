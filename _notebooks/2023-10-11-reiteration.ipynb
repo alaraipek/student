{
 "cells": [
  {
   "cell_type": "markdown",
   "metadata": {},
   "source": [
    "---\n",
    "toc: true\n",
    "comments: false\n",
    "layout: post\n",
    "title: P1 Recursion/Reiteration Homework\n",
    "description: Period 1 Recursion Homework\n",
    "courses: { compsci: {week: 6}}\n",
    "type: tangibles\n",
    "---"
   ]
  },
  {
   "cell_type": "code",
   "execution_count": null,
   "metadata": {},
   "outputs": [],
   "source": [
    "aspects_of_life = [\"family\", \"school\", \"hobbies\", \"friends\", \"work\"]\n",
    "def output_aspects(aspects, index):\n",
    "    # Base Case\n",
    "    if index >= len(aspects):\n",
    "        return\n",
    "    \n",
    "    # Recursive Case\n",
    "    print(aspects[index])\n",
    "    output_aspects(aspects, index + 1)\n",
    "\n",
    "# Call the recursive function with the initial index 0\n",
    "output_aspects(aspects_of_life, 0)"
   ]
  },
  {
   "cell_type": "code",
   "execution_count": 8,
   "metadata": {},
   "outputs": [
    {
     "name": "stdout",
     "output_type": "stream",
     "text": [
      "0\n",
      "1\n",
      "1\n",
      "2\n",
      "3\n",
      "5\n",
      "8\n",
      "13\n",
      "21\n",
      "34\n"
     ]
    }
   ],
   "source": [
    "def fibonacci(x):\n",
    "    if x == 1:\n",
    "        return 0 #First terminating statement\n",
    "    if x == 2:\n",
    "        return 1 #Second terminating statement\n",
    "    else:\n",
    "        #Calculates the sum of two proceeding numbers\n",
    "        # Without it recursion would continue infinitely \n",
    "        return fibonacci(x - 1) + fibonacci(x - 2)\n",
    "\n",
    "# Print Fibonacci numbers from 1 to 10\n",
    "for i in range(10):\n",
    "    print(fibonacci(i + 1))"
   ]
  }
 ],
 "metadata": {
  "kernelspec": {
   "display_name": "Python 3",
   "language": "python",
   "name": "python3"
  },
  "language_info": {
   "codemirror_mode": {
    "name": "ipython",
    "version": 3
   },
   "file_extension": ".py",
   "mimetype": "text/x-python",
   "name": "python",
   "nbconvert_exporter": "python",
   "pygments_lexer": "ipython3",
   "version": "3.8.10"
  }
 },
 "nbformat": 4,
 "nbformat_minor": 2
}
