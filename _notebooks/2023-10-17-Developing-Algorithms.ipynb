{
 "cells": [
  {
   "cell_type": "markdown",
   "metadata": {},
   "source": [
    "---\n",
    "toc: true\n",
    "comments: false\n",
    "layout: post\n",
    "title: P1 Developing Algorithms\n",
    "description: Period 1 Developing Algorithms Homework\n",
    "courses: { compsci: {week: 7}}\n",
    "type: tangibles\n",
    "---"
   ]
  },
  {
   "cell_type": "code",
   "execution_count": null,
   "metadata": {},
   "outputs": [],
   "source": [
    "test_grades = [85, 92, 78, 95, 88, 91, 89, 79, 96, 83]\n",
    "\n",
    "test_grades.sort()\n",
    "num_grades = len(test_grades)\n",
    "\n",
    "if num_grades % 2 == 0:\n",
    "    median = (test_grades[num_grades // 2 - 1] + test_grades[num_grades // 2]) / 2\n",
    "else:\n",
    "    median = test_grades[num_grades // 2]\n",
    "\n",
    "print(\"Median Test Grade:\", median)"
   ]
  },
  {
   "cell_type": "code",
   "execution_count": null,
   "metadata": {},
   "outputs": [],
   "source": [
    "##Simple Game\n",
    "\n",
    "import random\n",
    "\n",
    "# Generate a random number between 1 and 100\n",
    "random_number = random.randint(1, 100)\n",
    "\n",
    "# Number of attempts allowed\n",
    "attempts = 0\n",
    "\n",
    "print(\"Welcome to the Guessing Game!\")\n",
    "print(\"I'm thinking of a number between 1 and 100. Can you guess it?\")\n",
    "\n",
    "while True:\n",
    "    # Ask the player to guess the number\n",
    "    guess = int(input(\"Enter your guess: \"))\n",
    "    attempts += 1\n",
    "    \n",
    "    # Check if the guess is correct\n",
    "    if guess == random_number:\n",
    "        print(\"Congratulations! You guessed the number in\", attempts, \"attempts.\")\n",
    "        break\n",
    "    elif guess < random_number:\n",
    "        print(\"Too low! Try again.\")\n",
    "    else:\n",
    "        print(\"Too high! Try again.\")"
   ]
  }
 ],
 "metadata": {
  "language_info": {
   "name": "python"
  }
 },
 "nbformat": 4,
 "nbformat_minor": 2
}
