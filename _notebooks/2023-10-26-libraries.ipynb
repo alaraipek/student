{
 "cells": [
  {
   "cell_type": "markdown",
   "metadata": {},
   "source": [
    "---\n",
    "toc: true\n",
    "comments: false\n",
    "layout: post\n",
    "title: P1 Libraries\n",
    "description: Period 1 Libraries\n",
    "courses: { compsci: {week: 8}}\n",
    "type: tangibles\n",
    "---"
   ]
  },
  {
   "cell_type": "markdown",
   "metadata": {},
   "source": [
    "# 1. Python Libraries:\n",
    "\n",
    "## Requests:\n",
    "Requests is a popular Python library for making HTTP requests. It abstracts the complexities of making requests behind a simple API, allowing you to send HTTP/1.1 requests. It supports various HTTP methods and provides seamless integration with Python data structures.\n",
    "\n",
    "## Favorite Functions:\n",
    "\n",
    "requests.get(url): This function sends a GET request to the specified URL and returns a response object.\n",
    "response.json(): This function parses the response content as JSON and returns a Python dictionary.\n",
    "## Pandas:\n",
    "Pandas is a powerful data analysis library in Python. It provides data structures like DataFrame and Series for handling and manipulating data in tabular form. Pandas is widely used for data cleaning, data transformation, and statistical analysis.\n",
    "\n",
    "## Favorite Functions:\n",
    "\n",
    "pd.DataFrame(data): This function creates a DataFrame from various inputs like lists, dictionaries, or other data structures.\n",
    "DataFrame.groupby(by): This function is used to split the data into groups based on some criteria and apply a function to each group independently.\n",
    "## Matplotlib:\n",
    "Matplotlib is a popular data visualization library in Python. It provides an object-oriented API for embedding plots into applications using general-purpose GUI toolkits like Tkinter, wxPython, Qt, or GTK.\n",
    "\n",
    "## Favorite Functions:\n",
    "\n",
    "plt.plot(x, y): This function creates a basic line plot with the given x and y data points.\n",
    "plt.xlabel('xlabel'): This function sets the label for the x-axis in the plot.\n",
    "\n",
    "# 2. API: OpenWeatherMap API\n",
    "\n",
    "### Unique Aspect:\n",
    "One unique aspect of the OpenWeatherMap API is its real-time weather data and forecasts available for any location worldwide. It provides accurate weather information, including temperature, humidity, wind speed, and more, enabling developers to create weather-related applications with up-to-date data.\n",
    "\n",
    "### Type of API:\n",
    "OpenWeatherMap API is a RESTful API that offers both free and paid plans, making it accessible for developers of various backgrounds. It provides easy-to-use endpoints to fetch current weather conditions, hourly and daily forecasts, and historical weather data.\n",
    "\n",
    "### Functionality:\n",
    "The OpenWeatherMap API allows users to retrieve current weather data, hourly forecasts for the next 48 hours, and 7-day weather forecasts for any location globally. It also provides historical weather data, making it a valuable resource for developers building weather apps, travel planners, or outdoor activity organizers.\n",
    "\n",
    "### Scenario:\n",
    "Imagine creating a travel application that helps users plan their trips based on weather conditions. By integrating the OpenWeatherMap API, the app can provide users with real-time weather updates for their destination, helping them pack appropriate clothing and plan outdoor activities accordingly. This information can enhance the overall travel experience and ensure users are well-prepared for varying weather conditions during their trips.\n",
    "\n",
    "# Data Manipulation Library With Prefixed Function and Variable"
   ]
  },
  {
   "cell_type": "code",
   "execution_count": 1,
   "metadata": {},
   "outputs": [
    {
     "ename": "ModuleNotFoundError",
     "evalue": "No module named 'pandas'",
     "output_type": "error",
     "traceback": [
      "\u001b[0;31m---------------------------------------------------------------------------\u001b[0m",
      "\u001b[0;31mModuleNotFoundError\u001b[0m                       Traceback (most recent call last)",
      "\u001b[0;32m<ipython-input-1-38632f693636>\u001b[0m in \u001b[0;36m<module>\u001b[0;34m\u001b[0m\n\u001b[1;32m      1\u001b[0m \u001b[0;31m# Import the Pandas library\u001b[0m\u001b[0;34m\u001b[0m\u001b[0;34m\u001b[0m\u001b[0;34m\u001b[0m\u001b[0m\n\u001b[0;32m----> 2\u001b[0;31m \u001b[0;32mimport\u001b[0m \u001b[0mpandas\u001b[0m \u001b[0;32mas\u001b[0m \u001b[0mpd\u001b[0m\u001b[0;34m\u001b[0m\u001b[0;34m\u001b[0m\u001b[0m\n\u001b[0m\u001b[1;32m      3\u001b[0m \u001b[0;34m\u001b[0m\u001b[0m\n\u001b[1;32m      4\u001b[0m \u001b[0;31m# Sample data (a dictionary of lists)\u001b[0m\u001b[0;34m\u001b[0m\u001b[0;34m\u001b[0m\u001b[0;34m\u001b[0m\u001b[0m\n\u001b[1;32m      5\u001b[0m data = {\n",
      "\u001b[0;31mModuleNotFoundError\u001b[0m: No module named 'pandas'"
     ]
    }
   ],
   "source": [
    "# Import the Pandas library\n",
    "import pandas as pd\n",
    "\n",
    "# Sample data (a dictionary of lists)\n",
    "data = {\n",
    "    'Name': ['Alice', 'Bob', 'Charlie', 'David', 'Eva'],\n",
    "    'Age': [25, 30, 35, 40, 45],\n",
    "    'City': ['New York', 'Los Angeles', 'Chicago', 'Houston', 'Miami']\n",
    "}\n",
    "\n",
    "# Create a DataFrame using the pd.DataFrame() function\n",
    "df = pd.DataFrame(data)\n",
    "\n",
    "# Print the original DataFrame\n",
    "print(\"Original DataFrame:\")\n",
    "print(df)\n",
    "\n",
    "# Using the prefixed function pd.DataFrame() and the prefixed variable pd.Series() for data manipulation\n",
    "# In this case, we create a new column 'Salary' using a Pandas Series\n",
    "df['Salary'] = pd.Series([60000, 70000, 80000, 90000, 100000])\n",
    "\n",
    "# Print the updated DataFrame with the new 'Salary' column\n",
    "print(\"\\nDataFrame with Salary column added:\")\n",
    "print(df)"
   ]
  }
 ],
 "metadata": {
  "kernelspec": {
   "display_name": "Python 3",
   "language": "python",
   "name": "python3"
  },
  "language_info": {
   "codemirror_mode": {
    "name": "ipython",
    "version": 3
   },
   "file_extension": ".py",
   "mimetype": "text/x-python",
   "name": "python",
   "nbconvert_exporter": "python",
   "pygments_lexer": "ipython3",
   "version": "3.8.10"
  }
 },
 "nbformat": 4,
 "nbformat_minor": 2
}
