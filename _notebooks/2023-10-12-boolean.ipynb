{
 "cells": [
  {
   "cell_type": "markdown",
   "metadata": {},
   "source": [
    "---\n",
    "toc: true\n",
    "comments: false\n",
    "layout: post\n",
    "title: P1 Boolean and Conditionals HW\n",
    "description: Period 1 Boolean Homework\n",
    "courses: { compsci: {week: 8}}\n",
    "type: tangibles\n",
    "---"
   ]
  },
  {
   "cell_type": "code",
   "execution_count": null,
   "metadata": {},
   "outputs": [],
   "source": [
    "# Problem 1: Eligibility to Vote\n",
    "is_citizen = input(\"Are you a citizen? (yes/no): \").lower() == \"yes\"\n",
    "age = int(input(\"Enter your age: \"))\n",
    "\n",
    "if is_citizen and age >= 18:\n",
    "    print(\"You are eligible to vote!\")\n",
    "else:\n",
    "    print(\"You are not eligible to vote.\")\n",
    "# Problem 2: Employee Bonus Calculation\n",
    "years_of_service = int(input(\"Enter your years of service: \"))\n",
    "salary = float(input(\"Enter your salary: \"))\n",
    "\n",
    "if years_of_service > 5:\n",
    "    bonus_percentage = 5\n",
    "    bonus_amount = (bonus_percentage / 100) * salary\n",
    "    print(f\"Congratulations! You have earned a {bonus_percentage}% bonus of ${bonus_amount:.2f}.\")\n",
    "else:\n",
    "    print(\"Sorry, you are not eligible for a bonus.\")\n",
    "# Problem 3: Grading System\n",
    "marks = int(input(\"Enter your marks: \"))\n",
    "\n",
    "if marks < 25:\n",
    "    grade = \"F\"\n",
    "elif marks <= 45:\n",
    "    grade = \"E\"\n",
    "elif marks <= 50:\n",
    "    grade = \"D\"\n",
    "elif marks <= 60:\n",
    "    grade = \"C\"\n",
    "elif marks <= 80:\n",
    "    grade = \"B\"\n",
    "else:\n",
    "    grade = \"A\"\n",
    "\n",
    "print(f\"Your grade is: {grade}\")"
   ]
  }
 ],
 "metadata": {
  "language_info": {
   "name": "python"
  }
 },
 "nbformat": 4,
 "nbformat_minor": 2
}
