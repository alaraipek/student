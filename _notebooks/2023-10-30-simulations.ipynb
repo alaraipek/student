{
 "cells": [
  {
   "cell_type": "markdown",
   "metadata": {},
   "source": [
    "---\n",
    "toc: true\n",
    "comments: false\n",
    "layout: post\n",
    "title: P1 Simulations\n",
    "description: Period 1 Simulations\n",
    "courses: { compsci: {week: 8}}\n",
    "type: tangibles\n",
    "---"
   ]
  },
  {
   "cell_type": "code",
   "execution_count": null,
   "metadata": {},
   "outputs": [],
   "source": [
    "# Part 1 \n",
    "def sort_numbers(a, b, c, d):\n",
    "    numbers = [a, b, c, d]\n",
    "    numbers.sort()\n",
    "    return numbers\n",
    "\n",
    "## Example usage\n",
    "num1, num2, num3, num4 = 4, 2, 7, 1\n",
    "sorted_numbers = sort_numbers(num1, num2, num3, num4)\n",
    "print(\"Sorted numbers:\", sorted_numbers)\n",
    "\n",
    "# Part 2\n",
    "### Benefits:\n",
    "- Simulations are cost-effective, allowing experimentation without real-world expenses.\n",
    "- Simulations offer a safe environment to test scenarios, reducing risks associated with real-life trials.\n",
    "- Simulations aid in understanding complex systems by observing behavior in controlled settings.\n",
    "### Negative:\n",
    "- Simulations may lack accuracy due to assumptions and simplifications, potentially leading to flawed decisions.\n",
    "\n",
    "# Part 3\n",
    "- The recommendation system uses an algorithm to show personalized content by analyzing user preferences and engagement."
   ]
  }
 ],
 "metadata": {
  "language_info": {
   "name": "python"
  }
 },
 "nbformat": 4,
 "nbformat_minor": 2
}
