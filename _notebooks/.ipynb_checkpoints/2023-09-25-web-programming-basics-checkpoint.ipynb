{
 "cells": [
  {
   "cell_type": "markdown",
   "metadata": {},
   "source": [
    "---\n",
    "toc: false\n",
    "comments: false\n",
    "layout: post\n",
    "title: Team Test\n",
    "description: Team Test\n",
    "courses: { compsci: {week: 4}}\n",
    "type: hacks\n",
    "---"
   ]
  },
  {
   "cell_type": "code",
   "execution_count": 1,
   "metadata": {},
   "outputs": [
    {
     "ename": "SyntaxError",
     "evalue": "invalid syntax (<ipython-input-1-3a6e324859f2>, line 1)",
     "output_type": "error",
     "traceback": [
      "\u001b[0;36m  File \u001b[0;32m\"<ipython-input-1-3a6e324859f2>\"\u001b[0;36m, line \u001b[0;32m1\u001b[0m\n\u001b[0;31m    // Create an object representing an online grocery store\u001b[0m\n\u001b[0m    ^\u001b[0m\n\u001b[0;31mSyntaxError\u001b[0m\u001b[0;31m:\u001b[0m invalid syntax\n"
     ]
    }
   ],
   "source": [
    "// Create an object representing an online grocery store\n",
    "const groceryStore = {\n",
    "  name: “GreenGrocers”,\n",
    "  location: “Virtual”,\n",
    "  products: [\n",
    "    {\n",
    "      name: “Apples”,\n",
    "      price: 1.5,\n",
    "      quantity: 100,\n",
    "    },\n",
    "    {\n",
    "      name: “Bananas”,\n",
    "      price: 0.75,\n",
    "      quantity: 150,\n",
    "    },\n",
    "    {\n",
    "      name: “Milk”,\n",
    "      price: 2.0,\n",
    "      quantity: 50,\n",
    "    },\n",
    "  ],\n",
    "  customers: [“Customer1\", “Customer2”, “Customer3\"],\n",
    "  orders: [\n",
    "    {\n",
    "      orderId: 1,\n",
    "      customer: “Customer1”,\n",
    "      items: [“Apples”, “Bananas”],\n",
    "      total: 2.25,\n",
    "    },\n",
    "    {\n",
    "      orderId: 2,\n",
    "      customer: “Customer2\",\n",
    "      items: [“Milk”, “Apples”],\n",
    "      total: 3.5,\n",
    "    },\n",
    "  ],\n",
    "};\n",
    "// Log the entire groceryStore object\n",
    "console.log(“Grocery Store Object:“);\n",
    "console.log(groceryStore);\n",
    "// Manipulate arrays within the object\n",
    "groceryStore.products[0].quantity += 10;\n",
    "console.log(“Updated quantity of Apples:“);\n",
    "console.log(groceryStore.products[0]);\n",
    "// Perform mathematical operations\n",
    "const totalPrice = groceryStore.products.reduce(\n",
    "  (total, product) => total + product.price * product.quantity,\n",
    "  0\n",
    ");\n",
    "console.log(“Total value of all products in store: $” + totalPrice);\n",
    "// Use typeof to determine types of fields\n",
    "console.log(“Type of ‘name’:“, typeof groceryStore.name);\n",
    "console.log(“Type of ‘products’:“, typeof groceryStore.products);\n",
    "console.log(“Type of ‘orders’:“, typeof groceryStore.orders);"
   ]
  }
 ],
 "metadata": {
  "kernelspec": {
   "display_name": "Python 3",
   "language": "python",
   "name": "python3"
  },
  "language_info": {
   "codemirror_mode": {
    "name": "ipython",
    "version": 3
   },
   "file_extension": ".py",
   "mimetype": "text/x-python",
   "name": "python",
   "nbconvert_exporter": "python",
   "pygments_lexer": "ipython3",
   "version": "3.8.10"
  }
 },
 "nbformat": 4,
 "nbformat_minor": 2
}
