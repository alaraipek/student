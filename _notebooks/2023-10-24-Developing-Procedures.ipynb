{
 "cells": [
  {
   "cell_type": "markdown",
   "metadata": {},
   "source": [
    "---\n",
    "toc: true\n",
    "comments: false\n",
    "layout: post\n",
    "title: P1 Developing Programs\n",
    "description: Period 1 Developing Programs\n",
    "courses: { compsci: {week: 8}}\n",
    "type: tangibles\n",
    "---"
   ]
  },
  {
   "cell_type": "code",
   "execution_count": null,
   "metadata": {},
   "outputs": [],
   "source": [
    "def calculate_triangle_area(base, height):\n",
    "    \"\"\"\n",
    "    Demonstrates procedural abstraction by calculating the area of a triangle.\n",
    "    \n",
    "    Args:\n",
    "    base (float): The base length of the triangle.\n",
    "    height (float): The height of the triangle.\n",
    "    \n",
    "    Returns:\n",
    "    float: Area of the triangle.\n",
    "    \"\"\"\n",
    "    # Calculate the area of the triangle using the formula: (base * height) / 2\n",
    "    area = (base * height) / 2\n",
    "    return area\n",
    "\n",
    "# Example usage of procedural_abstraction function\n",
    "base_length = 6.0\n",
    "triangle_height = 4.0\n",
    "area_result = calculate_triangle_area(base_length, triangle_height)\n",
    "print(\"Area of the triangle with base\", base_length, \"and height\", triangle_height, \"is:\", area_result)"
   ]
  },
  {
   "cell_type": "code",
   "execution_count": null,
   "metadata": {},
   "outputs": [],
   "source": [
    "def summing_machine(first_number, second_number):\n",
    "    \"\"\"\n",
    "    Demonstrates procedural abstraction by calculating the sum of two numbers.\n",
    "    \n",
    "    Args:\n",
    "    first_number (int): The first number.\n",
    "    second_number (int): The second number.\n",
    "    \n",
    "    Returns:\n",
    "    int: Sum of the input numbers.\n",
    "    \"\"\"\n",
    "    # Calculate the sum of two numbers\n",
    "    total_sum = first_number + second_number\n",
    "    \n",
    "    # Return the result\n",
    "    return total_sum\n",
    "\n",
    "# Example usage of summing_machine function\n",
    "first_number = 7\n",
    "second_number = 5\n",
    "\n",
    "# Call the function and store the result\n",
    "result = summing_machine(first_number, second_number)\n",
    "\n",
    "# Print the result\n",
    "print(\"Sum of\", first_number, \"and\", second_number, \"is:\", result)"
   ]
  }
 ],
 "metadata": {
  "language_info": {
   "name": "python"
  }
 },
 "nbformat": 4,
 "nbformat_minor": 2
}
