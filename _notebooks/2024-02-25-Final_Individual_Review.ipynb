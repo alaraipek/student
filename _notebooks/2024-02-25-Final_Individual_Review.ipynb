{
 "cells": [
  {
   "cell_type": "markdown",
   "metadata": {},
   "source": [
    "---\n",
    "toc: False\n",
    "layout: post\n",
    "hide: false\n",
    "comments: true\n",
    "title: Final Individual Review\n",
    "description: Personal Reflection on CPT Project\n",
    "courses: {'compsci': {'week': 20}}\n",
    "type: tangibles\n",
    "---"
   ]
  },
  {
   "cell_type": "markdown",
   "metadata": {},
   "source": [
    "### College Board Requirements: [Link](https://apclassroom.collegeboard.org/103/home?apd=7wv87bhksv&unit=0)"
   ]
  },
  {
   "cell_type": "markdown",
   "metadata": {},
   "source": [
    "# Our Project\n",
    "\n",
    "Website for users to access volunteering oppertunities by gathering different vovlunteering serivces and organizations which allow students to sign-up for.\n",
    "\n",
    "# My Feature\n",
    "User can add multiple events to \"My Events\" rather than one individually at a time.\n",
    "\n",
    "### CPT Requirements & Explanation\n",
    "\n",
    "Instructions for input from one of the following: the user, a device, an online datas stream, a file. \n",
    "\n",
    "    \n",
    "Use of at least one list (or other collection type) to represent a collectino of data that is stored and used to manage program complexity and help fulfill the users purpose.\n",
    "\n",
    "    At least one procedure that contirubted to the program’s intened purpose where you have defined: the name, return type, one or more parameters:\n",
    "\n",
    "    An algorithm that includes sequencing, selection, and iteration that is in the body of the selected procedure\n",
    "    \n",
    "    Calls to your student-developed prodcedure:\n",
    "    \n",
    "    \n",
    "    Instructions for output (tactile, audible, visual, or ) based on input and program functionality\n"
   ]
  },
  {
   "cell_type": "markdown",
   "metadata": {},
   "source": [
    "[CPT Video]()"
   ]
  }
 ],
 "metadata": {
  "language_info": {
   "name": "python"
  },
  "orig_nbformat": 4
 },
 "nbformat": 4,
 "nbformat_minor": 2
}
