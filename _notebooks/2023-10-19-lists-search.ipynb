{
 "cells": [
  {
   "cell_type": "markdown",
   "metadata": {},
   "source": [
    "---\n",
    "toc: true\n",
    "comments: false\n",
    "layout: post\n",
    "title: P1 Lists and Binary Search HW\n",
    "description: Period 1 Lists and Search\n",
    "courses: { compsci: {week: 9}}\n",
    "type: tangibles\n",
    "---"
   ]
  },
  {
   "cell_type": "code",
   "execution_count": null,
   "metadata": {},
   "outputs": [],
   "source": [
    "# Sample list of numbers\n",
    "numbers = [1, 2, 3, 4, 5, 6, 7, 8, 9, 10]\n",
    "\n",
    "# Use list comprehension to create a new list containing even numbers\n",
    "even_numbers = [num for num in numbers if num % 2 == 0]\n",
    "\n",
    "# Calculate the sum of even numbers using the sum() function\n",
    "sum_even_numbers = sum(even_numbers)\n",
    "\n",
    "# Print the original list, even numbers, and their sum\n",
    "print(\"Original List:\", numbers)\n",
    "print(\"Even Numbers:\", even_numbers)\n",
    "print(\"Sum of Even Numbers:\", sum_even_numbers)"
   ]
  },
  {
   "cell_type": "code",
   "execution_count": null,
   "metadata": {},
   "outputs": [],
   "source": [
    "import math\n",
    "\n",
    "def worst_case_binary_search_iterations(array_length):\n",
    "    \"\"\"\n",
    "    Calculate the worst-case number of iterations for binary search\n",
    "    in an array of given length.\n",
    "    \n",
    "    Args:\n",
    "    array_length (int): Length of the array.\n",
    "    \n",
    "    Returns:\n",
    "    int: Worst-case number of iterations.\n",
    "    \"\"\"\n",
    "    # Calculate the worst-case number of iterations using log base 2\n",
    "    iterations = math.ceil(math.log2(array_length))\n",
    "    return iterations\n",
    "\n",
    "# Example usage for an array of length 20\n",
    "array_length = 20\n",
    "worst_case_iterations = worst_case_binary_search_iterations(array_length)\n",
    "print(\"Worst Case Number of Iterations for Binary Search in an Array of Length 20:\", worst_case_iterations)"
   ]
  },
  {
   "cell_type": "markdown",
   "metadata": {},
   "source": [
    "### Question #3\n",
    "Answer: A\n",
    "\n",
    "Explanation: Option A multiplies every item in `myList` by 2."
   ]
  }
 ],
 "metadata": {
  "language_info": {
   "name": "python"
  }
 },
 "nbformat": 4,
 "nbformat_minor": 2
}
