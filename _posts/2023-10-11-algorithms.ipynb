{
 "cells": [
  {
   "cell_type": "markdown",
   "metadata": {},
   "source": [
    "---\n",
    "toc: true\n",
    "comments: false\n",
    "layout: post\n",
    "title: Algorithms Homework\n",
    "description: Period 1 Algorithms Homework\n",
    "type: hacks\n",
    "courses: { compsci: {week: 6} }\n",
    "categories: [C1.4]\n",
    "---"
   ]
  },
  {
   "cell_type": "code",
   "execution_count": null,
   "metadata": {},
   "outputs": [],
   "source": [
    "class Student:\n",
    "    def __init__(self, name, score):\n",
    "        self.name = name\n",
    "        self.score = score\n",
    "\n",
    "    def __repr__(self):\n",
    "        return f'{self.name}: {self.score}'\n",
    "\n",
    "def bubble_sort_students(students):\n",
    "    n = len(students)\n",
    "    for i in range(n):\n",
    "        for j in range(0, n - i - 1):\n",
    "            if students[j].score > students[j + 1].score:\n",
    "                students[j], students[j + 1] = students[j + 1], students[j]\n",
    "\n",
    "# Sample student records\n",
    "students = [\n",
    "    Student(\"Alice\", 85),\n",
    "    Student(\"Bob\", 70),\n",
    "    Student(\"Charlie\", 95),\n",
    "    Student(\"David\", 60),\n",
    "    Student(\"Eva\", 78)\n",
    "]\n",
    "\n",
    "# Sort the list of students based on their scores using bubble sort\n",
    "bubble_sort_students(students)\n",
    "\n",
    "# Print the sorted list of students\n",
    "print(\"Sorted Student Records:\")\n",
    "for student in students:\n",
    "    print(student)"
   ]
  }
 ],
 "metadata": {
  "language_info": {
   "name": "python"
  }
 },
 "nbformat": 4,
 "nbformat_minor": 2
}
