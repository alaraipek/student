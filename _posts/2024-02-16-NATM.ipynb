{
 "cells": [
  {
   "cell_type": "markdown",
   "metadata": {},
   "source": [
    "---\n",
    "toc: true\n",
    "comments: true\n",
    "layout: post\n",
    "title: Night @ the Museum Reflection\n",
    "description: Personal reflection on our CPT project presentation at N@TM\n",
    "type: tangibles\n",
    "courses: { compsci: {week: 12} }\n",
    "---"
   ]
  },
  {
   "cell_type": "markdown",
   "metadata": {},
   "source": [
    "# Team Performance\n",
    "## Glows\n",
    "- Our styling and UI design improved much from the original default style, appealing to our viewers\n",
    "- Improved on engaging our audience by educating them on the different aspects the CPT project\n",
    "    - Ex: Demoed ROLES, use of JSON Web Tokens, Admin\n",
    "- Many viewers enjoyed demo of login and sign up\n",
    "- We showed the functionality of our idea and got to be creative\n",
    "## Grows\n",
    "- Could've explained the actual how frontend and backend connect and be more detailed when explaining how code applies to what we've been learning in class\n",
    "- Integration, since correlating and scheduling was a challenge when trying to collaborate\n",
    "- Start finding and implementing our API AI chatbot with volunteering service data\n",
    "- Still have yet to deploy our website\n",
    "\n",
    "## Feedback / Something Added to Individual CPT Project\n",
    "- Ensure all requirements and guidelines are met for the actual project\n",
    "- Clear and thorough documentation. This includes comments in the code, explanations of design choices, and descriptions of how the program works.\n",
    "\n",
    "## Blog on Event\n",
    "\n",
    "- Two standout projects that I saw in the computer science classroom that impressed me were Sharon and Alisha's project, as well as the worker hiring system project. Sharon's projecct used a databse from Redfin to suggest properties on their real estate website. Additionally, I thought that the worker hiring project was impressive by\n",
    " finding the most relevent workers based on input criteria.\n",
    "\n",
    "<img src=\"https://github.com/alaraipek/Issues/assets/115954616/721fac47-de83-4cb1-870e-9809d57978ca\" width=\"550\" height=\"350\">\n",
    "<img src=\"https://github.com/alaraipek/Issues/assets/115954616/3106dfd0-6889-457b-ba3a-33b82052f8db\" width=\"550\" height=\"350\">\n",
    "\n",
    "- Two other standout projects that I saw were in the ceramics and art/painting classrooms. In the ceramics classroom, I was impressed by Kaiah Simms' piece. Also, I was impressed by Aidan Lau's computer animation.\n",
    "\n",
    "<img src=\"https://github.com/alaraipek/Issues/assets/115954616/7d0581e2-244d-4bc7-832c-07c59e46635d\" width=\"250\" height=\"500\">\n",
    "<img src=\"https://github.com/alaraipek/Issues/assets/115954616/f868510e-84b2-409a-99c0-148c09057d10\" width=\"250\" height=\"500\">"
   ]
  }
 ],
 "metadata": {
  "language_info": {
   "name": "python"
  }
 },
 "nbformat": 4,
 "nbformat_minor": 2
}
